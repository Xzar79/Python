{
  "nbformat": 4,
  "nbformat_minor": 0,
  "metadata": {
    "colab": {
      "name": "2일차_2교시_input.ipynb",
      "provenance": [],
      "collapsed_sections": [],
      "authorship_tag": "ABX9TyO6JSPIz3T4lEefFJW77i+0",
      "include_colab_link": true
    },
    "kernelspec": {
      "name": "python3",
      "display_name": "Python 3"
    }
  },
  "cells": [
    {
      "cell_type": "markdown",
      "metadata": {
        "id": "view-in-github",
        "colab_type": "text"
      },
      "source": [
        "<a href=\"https://colab.research.google.com/github/Xzar79/Python/blob/master/2%EC%9D%BC%EC%B0%A8_2%EA%B5%90%EC%8B%9C_input.ipynb\" target=\"_parent\"><img src=\"https://colab.research.google.com/assets/colab-badge.svg\" alt=\"Open In Colab\"/></a>"
      ]
    },
    {
      "cell_type": "code",
      "metadata": {
        "id": "jg-CWExMDyPg",
        "colab_type": "code",
        "outputId": "edaf45a4-c0ac-495d-d2b4-890df9050d0f",
        "colab": {
          "base_uri": "https://localhost:8080/",
          "height": 53
        }
      },
      "source": [
        "a = input('당신의 이름을 입력하세요.')\n",
        "a"
      ],
      "execution_count": 13,
      "outputs": [
        {
          "output_type": "stream",
          "text": [
            "당신의 이름을 입력하세요.기만\n"
          ],
          "name": "stdout"
        },
        {
          "output_type": "execute_result",
          "data": {
            "text/plain": [
              "'기만'"
            ]
          },
          "metadata": {
            "tags": []
          },
          "execution_count": 13
        }
      ]
    },
    {
      "cell_type": "code",
      "metadata": {
        "id": "SVe22ejeESFk",
        "colab_type": "code",
        "outputId": "c0e21206-ee5d-4dd6-9fde-79b71b3f0324",
        "colab": {
          "base_uri": "https://localhost:8080/",
          "height": 53
        }
      },
      "source": [
        "b = input('당신의 나이를 입력하세요.')\n",
        "b"
      ],
      "execution_count": 12,
      "outputs": [
        {
          "output_type": "stream",
          "text": [
            "당신의 나이를 입력하세요.10\n"
          ],
          "name": "stdout"
        },
        {
          "output_type": "execute_result",
          "data": {
            "text/plain": [
              "'10'"
            ]
          },
          "metadata": {
            "tags": []
          },
          "execution_count": 12
        }
      ]
    },
    {
      "cell_type": "code",
      "metadata": {
        "id": "MJIq17-GEhbb",
        "colab_type": "code",
        "outputId": "336c1ce4-f207-4a36-fce1-3f075d1061df",
        "colab": {
          "base_uri": "https://localhost:8080/",
          "height": 35
        }
      },
      "source": [
        "type(a), type(b)\n",
        "#input으로 숫자를 입력받아도 문자열로 기억된다."
      ],
      "execution_count": 11,
      "outputs": [
        {
          "output_type": "execute_result",
          "data": {
            "text/plain": [
              "(str, str)"
            ]
          },
          "metadata": {
            "tags": []
          },
          "execution_count": 11
        }
      ]
    },
    {
      "cell_type": "code",
      "metadata": {
        "id": "BRDHP9ESEv7m",
        "colab_type": "code",
        "colab": {
          "base_uri": "https://localhost:8080/",
          "height": 35
        },
        "outputId": "1198c599-17fb-4403-ca4d-9bb0bc357ec4"
      },
      "source": [
        "c = int(b)\n",
        "c, type(c)"
      ],
      "execution_count": 10,
      "outputs": [
        {
          "output_type": "execute_result",
          "data": {
            "text/plain": [
              "(19, int)"
            ]
          },
          "metadata": {
            "tags": []
          },
          "execution_count": 10
        }
      ]
    },
    {
      "cell_type": "code",
      "metadata": {
        "id": "bbYEeDLGFJUH",
        "colab_type": "code",
        "colab": {
          "base_uri": "https://localhost:8080/",
          "height": 53
        },
        "outputId": "644120e7-d48c-49b9-e39b-e182dcd517c7"
      },
      "source": [
        "year = int(input('출생년도를 입력하세요.'))\n",
        "age=2021-year\n",
        "print('당신은', year, '년생이고', 2021-year, \"살 이시군뇨\")"
      ],
      "execution_count": 19,
      "outputs": [
        {
          "output_type": "stream",
          "text": [
            "출생년도를 입력하세요.02\n",
            "당신은 2 년생이고 2019 살 이시군뇨\n"
          ],
          "name": "stdout"
        }
      ]
    },
    {
      "cell_type": "markdown",
      "metadata": {
        "id": "tzN5tTFWGzBu",
        "colab_type": "text"
      },
      "source": [
        "**Format**\n",
        "\n",
        "서식지정자 라고 한다.\n",
        "\n"
      ]
    },
    {
      "cell_type": "code",
      "metadata": {
        "id": "hURqAmkdG2eW",
        "colab_type": "code",
        "colab": {
          "base_uri": "https://localhost:8080/",
          "height": 35
        },
        "outputId": "1d35acc3-13b7-403c-e98b-4e57e02e0daf"
      },
      "source": [
        "s = 'a is {}'\n",
        "s.format('apple')\n",
        "#format은 {}와 함께 사용한다. 중괄호 안의 값을 줌으로서 결과값이 달라진다."
      ],
      "execution_count": 22,
      "outputs": [
        {
          "output_type": "execute_result",
          "data": {
            "text/plain": [
              "'a is apple'"
            ]
          },
          "metadata": {
            "tags": []
          },
          "execution_count": 22
        }
      ]
    },
    {
      "cell_type": "code",
      "metadata": {
        "id": "wuAJjeJIHUhs",
        "colab_type": "code",
        "colab": {
          "base_uri": "https://localhost:8080/",
          "height": 53
        },
        "outputId": "154f30c5-db13-4fce-f743-511369478908"
      },
      "source": [
        "a = '%s %d개 가격은 %.2f 달러'\n",
        "b = a %('햄버거', 2, 4.0*2)\n",
        "print(a)\n",
        "print(b)\n",
        "#a는 출력 양식, b는 양식에 들어갈 것들."
      ],
      "execution_count": 26,
      "outputs": [
        {
          "output_type": "stream",
          "text": [
            "%s %d개 가격은 %.2f 달러\n",
            "햄버거 2개 가격은 8.00 달러\n"
          ],
          "name": "stdout"
        }
      ]
    },
    {
      "cell_type": "code",
      "metadata": {
        "id": "FLOpvyoTICIu",
        "colab_type": "code",
        "colab": {
          "base_uri": "https://localhost:8080/",
          "height": 53
        },
        "outputId": "02a35f6a-374f-4907-d25e-920e1749cf0d"
      },
      "source": [
        "# 치킨 2마리 가격은 40000원\n",
        "a = '%s %d마리 가격은 %d 원'\n",
        "b = a%('치킨', 2, 20000*2)\n",
        "print(a)\n",
        "print(b)"
      ],
      "execution_count": 28,
      "outputs": [
        {
          "output_type": "stream",
          "text": [
            "%s %d마리 가격은 %d 원\n",
            "치킨 2마리 가격은 40000 원\n"
          ],
          "name": "stdout"
        }
      ]
    }
  ]
}