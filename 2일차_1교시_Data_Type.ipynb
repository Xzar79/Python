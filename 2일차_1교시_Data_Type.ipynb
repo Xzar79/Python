{
  "nbformat": 4,
  "nbformat_minor": 0,
  "metadata": {
    "colab": {
      "name": "2일차_1교시_Data_Type.ipynb",
      "provenance": [],
      "collapsed_sections": [],
      "authorship_tag": "ABX9TyNi31Fu3aKcVM6yMB371rk4",
      "include_colab_link": true
    },
    "kernelspec": {
      "name": "python3",
      "display_name": "Python 3"
    }
  },
  "cells": [
    {
      "cell_type": "markdown",
      "metadata": {
        "id": "view-in-github",
        "colab_type": "text"
      },
      "source": [
        "<a href=\"https://colab.research.google.com/github/Xzar79/Python/blob/master/2%EC%9D%BC%EC%B0%A8_1%EA%B5%90%EC%8B%9C_Data_Type.ipynb\" target=\"_parent\"><img src=\"https://colab.research.google.com/assets/colab-badge.svg\" alt=\"Open In Colab\"/></a>"
      ]
    },
    {
      "cell_type": "code",
      "metadata": {
        "id": "tYFIdwfh3ull",
        "colab_type": "code",
        "colab": {}
      },
      "source": [
        ""
      ],
      "execution_count": 0,
      "outputs": []
    },
    {
      "cell_type": "markdown",
      "metadata": {
        "id": "Vz2P4x7w4UKw",
        "colab_type": "text"
      },
      "source": [
        "[학습목표}\n",
        "\n",
        "\n",
        "---\n",
        "1. DataType을 알아보자\n",
        "2. 출력문을 자유롭게 써보자\n",
        "\n",
        "---\n",
        "한줄한줄을 '셀' 이라고 한다.\n",
        "alt+Enter를 누르면 셀을 실행시키고 다음 셀로 넘어간다.\n"
      ]
    },
    {
      "cell_type": "code",
      "metadata": {
        "id": "kavBGqxV4zkK",
        "colab_type": "code",
        "outputId": "a4daedd1-385c-4aaf-c864-62d28b59ed51",
        "colab": {
          "base_uri": "https://localhost:8080/",
          "height": 35
        }
      },
      "source": [
        "print('Hello')"
      ],
      "execution_count": 0,
      "outputs": [
        {
          "output_type": "stream",
          "text": [
            "Hello\n"
          ],
          "name": "stdout"
        }
      ]
    },
    {
      "cell_type": "code",
      "metadata": {
        "id": "mvTNTOBe46vG",
        "colab_type": "code",
        "outputId": "efdc605c-0ca6-4bff-ab34-43c0b1c218ed",
        "colab": {
          "base_uri": "https://localhost:8080/",
          "height": 35
        }
      },
      "source": [
        "name = '김환'\n",
        "print(name, '안녕!')"
      ],
      "execution_count": 0,
      "outputs": [
        {
          "output_type": "stream",
          "text": [
            "김환 안녕!\n"
          ],
          "name": "stdout"
        }
      ]
    },
    {
      "cell_type": "code",
      "metadata": {
        "id": "wzUDiL2w5aYL",
        "colab_type": "code",
        "outputId": "c18805d6-f6f3-4dd9-fa96-50f3d3143595",
        "colab": {
          "base_uri": "https://localhost:8080/",
          "height": 89
        }
      },
      "source": [
        "a=10\n",
        "b=6.0\n",
        "print('a / b = ', a/b) #몫과 나머지만 나온다.\n",
        "print('a // b = ', a//b) #몫만 나온다\n",
        "print('a ** b = ', a**b) #a의 b승\n",
        "print('a % b = ', a%b) #나머지만 나온다."
      ],
      "execution_count": 0,
      "outputs": [
        {
          "output_type": "stream",
          "text": [
            "a / b =  1.6666666666666667\n",
            "a // b =  1.0\n",
            "a ** b =  1000000.0\n",
            "a % b =  4.0\n"
          ],
          "name": "stdout"
        }
      ]
    },
    {
      "cell_type": "code",
      "metadata": {
        "id": "GZ8ObhNR6DR5",
        "colab_type": "code",
        "outputId": "4def88d4-21e4-41a9-d4a2-0ea9ce25de68",
        "colab": {
          "base_uri": "https://localhost:8080/",
          "height": 35
        }
      },
      "source": [
        "# Data Type\n",
        "print(type(a), type(b), type(name))\n",
        "#{ }은 집합\n",
        "#[]은 리스트\n",
        "#튜플은 수정이 안됨.\n",
        "#집합, 즉 세트는 교집합 차집합이 가능"
      ],
      "execution_count": 0,
      "outputs": [
        {
          "output_type": "stream",
          "text": [
            "<class 'int'> <class 'float'> <class 'str'>\n"
          ],
          "name": "stdout"
        }
      ]
    },
    {
      "cell_type": "code",
      "metadata": {
        "id": "rX8nSQyb7Jah",
        "colab_type": "code",
        "colab": {}
      },
      "source": [
        "a=[1,2,3]\n",
        "b={'햄버거', '치킨'}\n",
        "c=1,2,3"
      ],
      "execution_count": 0,
      "outputs": []
    },
    {
      "cell_type": "code",
      "metadata": {
        "id": "jbMgIv3I7j6h",
        "colab_type": "code",
        "outputId": "4d06910d-a750-4a9b-e7fc-dc11b068c8d3",
        "colab": {
          "base_uri": "https://localhost:8080/",
          "height": 35
        }
      },
      "source": [
        "type(a), type(b), type(c)"
      ],
      "execution_count": 0,
      "outputs": [
        {
          "output_type": "execute_result",
          "data": {
            "text/plain": [
              "(list, set, tuple)"
            ]
          },
          "metadata": {
            "tags": []
          },
          "execution_count": 26
        }
      ]
    },
    {
      "cell_type": "code",
      "metadata": {
        "id": "qVq2cf6w77Fh",
        "colab_type": "code",
        "outputId": "2fac5fa1-7d04-49bb-f5a6-6ee0d7a76079",
        "colab": {
          "base_uri": "https://localhost:8080/",
          "height": 35
        }
      },
      "source": [
        "a[0]"
      ],
      "execution_count": 0,
      "outputs": [
        {
          "output_type": "execute_result",
          "data": {
            "text/plain": [
              "1"
            ]
          },
          "metadata": {
            "tags": []
          },
          "execution_count": 28
        }
      ]
    },
    {
      "cell_type": "code",
      "metadata": {
        "id": "VDnSFDe58Ce6",
        "colab_type": "code",
        "outputId": "1eade43e-3b24-48fc-e27e-822056be2fd9",
        "colab": {
          "base_uri": "https://localhost:8080/",
          "height": 35
        }
      },
      "source": [
        "a[-1]\n",
        "#-1은 리스트의 마지막 번호"
      ],
      "execution_count": 0,
      "outputs": [
        {
          "output_type": "execute_result",
          "data": {
            "text/plain": [
              "3"
            ]
          },
          "metadata": {
            "tags": []
          },
          "execution_count": 30
        }
      ]
    },
    {
      "cell_type": "code",
      "metadata": {
        "id": "PfCb1Rxo8HHW",
        "colab_type": "code",
        "outputId": "6e0a378c-0a74-44e6-a822-e21630b63f80",
        "colab": {
          "base_uri": "https://localhost:8080/",
          "height": 35
        }
      },
      "source": [
        "a[1:]\n",
        "#1:은 1번지부터 전부 즉, 1번지,2번지가 쭉 나온다."
      ],
      "execution_count": 0,
      "outputs": [
        {
          "output_type": "execute_result",
          "data": {
            "text/plain": [
              "[2, 3]"
            ]
          },
          "metadata": {
            "tags": []
          },
          "execution_count": 32
        }
      ]
    },
    {
      "cell_type": "code",
      "metadata": {
        "id": "UwSK8a7B9Gli",
        "colab_type": "code",
        "outputId": "5f3df3a7-0194-4f13-b0e9-1ec23bcd22d3",
        "colab": {
          "base_uri": "https://localhost:8080/",
          "height": 35
        }
      },
      "source": [
        "a=True\n",
        "b=False\n",
        "a&b, a|b, type(a)"
      ],
      "execution_count": 0,
      "outputs": [
        {
          "output_type": "execute_result",
          "data": {
            "text/plain": [
              "(False, True, bool)"
            ]
          },
          "metadata": {
            "tags": []
          },
          "execution_count": 33
        }
      ]
    },
    {
      "cell_type": "code",
      "metadata": {
        "id": "Mk5OfhJy9MlQ",
        "colab_type": "code",
        "outputId": "959525ad-4649-4536-8c6c-769eac03e314",
        "colab": {
          "base_uri": "https://localhost:8080/",
          "height": 35
        }
      },
      "source": [
        "a=[2, 4, 6, 8]\n",
        "len(a), a[-1]\n",
        "#len()이라는 함수는 배열의 크기를 알려준다. length라고 알면 된다."
      ],
      "execution_count": 0,
      "outputs": [
        {
          "output_type": "execute_result",
          "data": {
            "text/plain": [
              "(4, 8)"
            ]
          },
          "metadata": {
            "tags": []
          },
          "execution_count": 36
        }
      ]
    },
    {
      "cell_type": "code",
      "metadata": {
        "id": "b5JumD5H9kiB",
        "colab_type": "code",
        "outputId": "3e343eb5-f9a0-422a-cdaa-5e60df7dbb07",
        "colab": {
          "base_uri": "https://localhost:8080/",
          "height": 35
        }
      },
      "source": [
        "b='인천정보산업고등학교'\n",
        "len(b)"
      ],
      "execution_count": 0,
      "outputs": [
        {
          "output_type": "execute_result",
          "data": {
            "text/plain": [
              "10"
            ]
          },
          "metadata": {
            "tags": []
          },
          "execution_count": 37
        }
      ]
    }
  ]
}