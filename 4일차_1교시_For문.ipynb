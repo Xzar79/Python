{
  "nbformat": 4,
  "nbformat_minor": 0,
  "metadata": {
    "colab": {
      "name": "4일차_1교시_For문.ipynb",
      "provenance": [],
      "authorship_tag": "ABX9TyMFV+swC7slTqUP2N2FkBnz",
      "include_colab_link": true
    },
    "kernelspec": {
      "name": "python3",
      "display_name": "Python 3"
    }
  },
  "cells": [
    {
      "cell_type": "markdown",
      "metadata": {
        "id": "view-in-github",
        "colab_type": "text"
      },
      "source": [
        "<a href=\"https://colab.research.google.com/github/Xzar79/Python/blob/master/4%EC%9D%BC%EC%B0%A8_1%EA%B5%90%EC%8B%9C_For%EB%AC%B8.ipynb\" target=\"_parent\"><img src=\"https://colab.research.google.com/assets/colab-badge.svg\" alt=\"Open In Colab\"/></a>"
      ]
    },
    {
      "cell_type": "code",
      "metadata": {
        "id": "5k-jcKM37gjy",
        "colab_type": "code",
        "colab": {}
      },
      "source": [
        ""
      ],
      "execution_count": 0,
      "outputs": []
    },
    {
      "cell_type": "markdown",
      "metadata": {
        "id": "Pd1dhumv7x5H",
        "colab_type": "text"
      },
      "source": [
        "**[학습목표]**\n",
        "\n",
        "1. list,range\n",
        "\n",
        "2. For문\n",
        "\n",
        "---\n",
        "\n"
      ]
    },
    {
      "cell_type": "code",
      "metadata": {
        "id": "eOv_Jx0d792K",
        "colab_type": "code",
        "colab": {
          "base_uri": "https://localhost:8080/",
          "height": 35
        },
        "outputId": "a29887eb-644b-4bc3-a2e5-7b5379b5e1bd"
      },
      "source": [
        "range(5)"
      ],
      "execution_count": 3,
      "outputs": [
        {
          "output_type": "execute_result",
          "data": {
            "text/plain": [
              "range(0, 5)"
            ]
          },
          "metadata": {
            "tags": []
          },
          "execution_count": 3
        }
      ]
    },
    {
      "cell_type": "code",
      "metadata": {
        "id": "FvpenBWl8XOJ",
        "colab_type": "code",
        "colab": {
          "base_uri": "https://localhost:8080/",
          "height": 35
        },
        "outputId": "dd7c1926-4e95-4f6a-c16d-e8756f7dc4d9"
      },
      "source": [
        "a = list(range(1, 6))\n",
        "a"
      ],
      "execution_count": 8,
      "outputs": [
        {
          "output_type": "execute_result",
          "data": {
            "text/plain": [
              "[1, 2, 3, 4, 5]"
            ]
          },
          "metadata": {
            "tags": []
          },
          "execution_count": 8
        }
      ]
    },
    {
      "cell_type": "code",
      "metadata": {
        "id": "9jQoUJ4l9CMc",
        "colab_type": "code",
        "colab": {
          "base_uri": "https://localhost:8080/",
          "height": 35
        },
        "outputId": "601615c1-d3d5-4bec-d4f5-a9ecd6e9f5a2"
      },
      "source": [
        "type(a)"
      ],
      "execution_count": 9,
      "outputs": [
        {
          "output_type": "execute_result",
          "data": {
            "text/plain": [
              "list"
            ]
          },
          "metadata": {
            "tags": []
          },
          "execution_count": 9
        }
      ]
    },
    {
      "cell_type": "code",
      "metadata": {
        "id": "Jnl9-AT79C90",
        "colab_type": "code",
        "colab": {
          "base_uri": "https://localhost:8080/",
          "height": 35
        },
        "outputId": "e99da537-be50-44c6-b4ea-3a63911e7ad8"
      },
      "source": [
        "for i in range(1, 10) : \n",
        "  print(i, end=' ')"
      ],
      "execution_count": 12,
      "outputs": [
        {
          "output_type": "stream",
          "text": [
            "1 2 3 4 5 6 7 8 9 "
          ],
          "name": "stdout"
        }
      ]
    },
    {
      "cell_type": "markdown",
      "metadata": {
        "id": "iZfVchVr9hfl",
        "colab_type": "text"
      },
      "source": [
        "**[문제 1]**\n",
        "for문을 이용해서 10부터 0까지 -2씩 출력"
      ]
    },
    {
      "cell_type": "code",
      "metadata": {
        "id": "X1xBelOn9oEd",
        "colab_type": "code",
        "colab": {
          "base_uri": "https://localhost:8080/",
          "height": 35
        },
        "outputId": "b5c4d5a0-968e-478b-8d8f-ae61fbf0ba68"
      },
      "source": [
        "for i in range(10, -1, -2) : \n",
        "  print(i, end='  ')"
      ],
      "execution_count": 14,
      "outputs": [
        {
          "output_type": "stream",
          "text": [
            "10  8  6  4  2  0  "
          ],
          "name": "stdout"
        }
      ]
    },
    {
      "cell_type": "code",
      "metadata": {
        "id": "fg0Ro1lG-UHQ",
        "colab_type": "code",
        "colab": {
          "base_uri": "https://localhost:8080/",
          "height": 107
        },
        "outputId": "91e53f4c-ce1e-49ec-d1b2-291d5cef34b5"
      },
      "source": [
        "a = [1.3, 2.1, 4.5, 5, 5.1]\n",
        "for i in a :\n",
        "  print(a)"
      ],
      "execution_count": 16,
      "outputs": [
        {
          "output_type": "stream",
          "text": [
            "[1.3, 2.1, 4.5, 5, 5.1]\n",
            "[1.3, 2.1, 4.5, 5, 5.1]\n",
            "[1.3, 2.1, 4.5, 5, 5.1]\n",
            "[1.3, 2.1, 4.5, 5, 5.1]\n",
            "[1.3, 2.1, 4.5, 5, 5.1]\n"
          ],
          "name": "stdout"
        }
      ]
    },
    {
      "cell_type": "code",
      "metadata": {
        "id": "DqUIbrx6-m4i",
        "colab_type": "code",
        "colab": {
          "base_uri": "https://localhost:8080/",
          "height": 107
        },
        "outputId": "23fdd55e-003b-4a8a-b922-e913ee61c104"
      },
      "source": [
        "a = [1.3, 2.1, 4.5, 5, 5.1]\n",
        "for i in range(len(a)) :\n",
        "  print(a[i])"
      ],
      "execution_count": 20,
      "outputs": [
        {
          "output_type": "stream",
          "text": [
            "1.3\n",
            "2.1\n",
            "4.5\n",
            "5\n",
            "5.1\n"
          ],
          "name": "stdout"
        }
      ]
    },
    {
      "cell_type": "code",
      "metadata": {
        "id": "dNRuKhvx_fG5",
        "colab_type": "code",
        "colab": {
          "base_uri": "https://localhost:8080/",
          "height": 197
        },
        "outputId": "a0276133-5724-4f1a-e324-f5d9600cb3a6"
      },
      "source": [
        "a=[1, 2, 3, 4, 5, 6, 7, 8, 9, 10]\n",
        "for i in range(len(a)) :\n",
        "  print('Hello Python', a[i])"
      ],
      "execution_count": 22,
      "outputs": [
        {
          "output_type": "stream",
          "text": [
            "Hello Python 1\n",
            "Hello Python 2\n",
            "Hello Python 3\n",
            "Hello Python 4\n",
            "Hello Python 5\n",
            "Hello Python 6\n",
            "Hello Python 7\n",
            "Hello Python 8\n",
            "Hello Python 9\n",
            "Hello Python 10\n"
          ],
          "name": "stdout"
        }
      ]
    },
    {
      "cell_type": "code",
      "metadata": {
        "id": "JpfDNtfiAPLS",
        "colab_type": "code",
        "colab": {
          "base_uri": "https://localhost:8080/",
          "height": 53
        },
        "outputId": "f8eb4de0-4c34-4e72-8580-8d446c6b5f5b"
      },
      "source": [
        "count = int(input('몇번 입력?'))\n",
        "type(count)"
      ],
      "execution_count": 24,
      "outputs": [
        {
          "output_type": "stream",
          "text": [
            "몇번 입력?3\n"
          ],
          "name": "stdout"
        },
        {
          "output_type": "execute_result",
          "data": {
            "text/plain": [
              "int"
            ]
          },
          "metadata": {
            "tags": []
          },
          "execution_count": 24
        }
      ]
    },
    {
      "cell_type": "code",
      "metadata": {
        "id": "oKbbNQq8Afq2",
        "colab_type": "code",
        "colab": {
          "base_uri": "https://localhost:8080/",
          "height": 89
        },
        "outputId": "71501ef0-77d3-4830-cd93-49bd75cc07c9"
      },
      "source": [
        "count= int(input('몇번 반복?'))\n",
        "for i in range(count) :\n",
        "  print('좋아', i+1)"
      ],
      "execution_count": 28,
      "outputs": [
        {
          "output_type": "stream",
          "text": [
            "몇번 반복?3\n",
            "좋아 1\n",
            "좋아 2\n",
            "좋아 3\n"
          ],
          "name": "stdout"
        }
      ]
    },
    {
      "cell_type": "code",
      "metadata": {
        "id": "9lxhubMQBaq2",
        "colab_type": "code",
        "colab": {
          "base_uri": "https://localhost:8080/",
          "height": 71
        },
        "outputId": "af73087f-3cff-4f46-e3df-fc6351640445"
      },
      "source": [
        "a = list(map(int, (input('숫자 5개 입력').split())))\n",
        "b = 0\n",
        "avg = 0.0\n",
        "for i in range(len(a)) :\n",
        "  b = b + a[i]\n",
        "  c = b/len(a)\n",
        "print('합계 :', b)\n",
        "print('평균 :', c)"
      ],
      "execution_count": 37,
      "outputs": [
        {
          "output_type": "stream",
          "text": [
            "숫자 5개 입력1 2 3 4 5\n",
            "합계 : 15\n",
            "평균 : 3.0\n"
          ],
          "name": "stdout"
        }
      ]
    }
  ]
}