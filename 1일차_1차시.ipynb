{
  "nbformat": 4,
  "nbformat_minor": 0,
  "metadata": {
    "colab": {
      "name": "Untitled0.ipynb",
      "provenance": [],
      "authorship_tag": "ABX9TyP93WM25y4TKMOouxKzLu5m",
      "include_colab_link": true
    },
    "kernelspec": {
      "name": "python3",
      "display_name": "Python 3"
    }
  },
  "cells": [
    {
      "cell_type": "markdown",
      "metadata": {
        "id": "view-in-github",
        "colab_type": "text"
      },
      "source": [
        "<a href=\"https://colab.research.google.com/github/Xzar79/Python/blob/master/1%EC%9D%BC%EC%B0%A8_1%EC%B0%A8%EC%8B%9C.ipynb\" target=\"_parent\"><img src=\"https://colab.research.google.com/assets/colab-badge.svg\" alt=\"Open In Colab\"/></a>"
      ]
    },
    {
      "cell_type": "markdown",
      "metadata": {
        "id": "cnV0HvCC4dVC",
        "colab_type": "text"
      },
      "source": [
        "사칙연산\n",
        "\n",
        "\n",
        "```\n",
        "# +, -, *, **, /, //, %\n",
        "a = 3, b = 2\n",
        "a + b = 5\n",
        "```\n",
        "\n"
      ]
    },
    {
      "cell_type": "code",
      "metadata": {
        "id": "zd_H0Egh4tCm",
        "colab_type": "code",
        "outputId": "b5d179ba-c467-489b-a749-414b5b14491b",
        "colab": {
          "base_uri": "https://localhost:8080/",
          "height": 143
        }
      },
      "source": [
        "a=3\n",
        "b=2\n",
        "print('a + b = ', a+b)\n",
        "print('a - b = ', a-b)\n",
        "print('a * b = ', a*b)\n",
        "print('a ** b = ', a**b)\n",
        "print('a / b = ', a/b)\n",
        "print('a // b = ', a//b)\n",
        "print('a % b = ', a%b)\n",
        "#주석"
      ],
      "execution_count": 0,
      "outputs": [
        {
          "output_type": "stream",
          "text": [
            "a + b =  5\n",
            "a - b =  1\n",
            "a * b =  6\n",
            "a ** b =  9\n",
            "a / b =  1.5\n",
            "a // b =  1\n",
            "a % b =  1\n"
          ],
          "name": "stdout"
        }
      ]
    },
    {
      "cell_type": "code",
      "metadata": {
        "id": "88swQur68wEs",
        "colab_type": "code",
        "colab": {}
      },
      "source": [
        ""
      ],
      "execution_count": 0,
      "outputs": []
    }
  ]
}